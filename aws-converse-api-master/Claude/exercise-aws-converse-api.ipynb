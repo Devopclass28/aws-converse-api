{
 "cells": [
  {
   "cell_type": "markdown",
   "id": "9dd4296c",
   "metadata": {},
   "source": [
    "# Getting Started with AWS Converse API\n"
   ]
  },
  {
   "cell_type": "markdown",
   "id": "5c828e12",
   "metadata": {},
   "source": [
    "### Initialize bedrock-runtime"
   ]
  },
  {
   "cell_type": "code",
   "execution_count": 2,
   "id": "9e32df0a",
   "metadata": {},
   "outputs": [],
   "source": [
    "import boto3, json\n",
    "\n",
    "session = boto3.Session()\n",
    "bedrock = session.client(service_name='bedrock-runtime')\n",
    "\n",
    "message_list = []"
   ]
  },
  {
   "attachments": {},
   "cell_type": "markdown",
   "id": "8af1b237",
   "metadata": {},
   "source": [
    "### A basic call to the Converse API"
   ]
  },
  {
   "cell_type": "code",
   "execution_count": 15,
   "id": "a6988dff",
   "metadata": {},
   "outputs": [],
   "source": [
    "# CODE 1"
   ]
  },
  {
   "cell_type": "markdown",
   "id": "a5be4c01",
   "metadata": {},
   "source": [
    "### Alternating user and assistant messages"
   ]
  },
  {
   "cell_type": "markdown",
   "id": "a110ae9c",
   "metadata": {},
   "source": [
    "####  Alternate between messages from the “user” and “assistant” roles."
   ]
  },
  {
   "cell_type": "code",
   "execution_count": 16,
   "id": "0bd23d6c",
   "metadata": {},
   "outputs": [],
   "source": [
    "# CODE 2"
   ]
  },
  {
   "attachments": {},
   "cell_type": "markdown",
   "id": "9b9646d8",
   "metadata": {},
   "source": [
    "### Including an image in a message\n",
    "\n",
    "![Alt Text](image.webp)"
   ]
  },
  {
   "cell_type": "code",
   "execution_count": 17,
   "id": "83c0bed3",
   "metadata": {},
   "outputs": [],
   "source": [
    "# CODE 3"
   ]
  },
  {
   "attachments": {},
   "cell_type": "markdown",
   "id": "a2af1bf2",
   "metadata": {},
   "source": [
    "### Setting a system prompt\n"
   ]
  },
  {
   "cell_type": "code",
   "execution_count": 18,
   "id": "79b3049f",
   "metadata": {},
   "outputs": [],
   "source": [
    "# CODE 4"
   ]
  },
  {
   "cell_type": "code",
   "execution_count": null,
   "id": "09bab11e",
   "metadata": {},
   "outputs": [],
   "source": []
  }
 ],
 "metadata": {
  "kernelspec": {
   "display_name": "conda_python3",
   "language": "python",
   "name": "conda_python3"
  },
  "language_info": {
   "codemirror_mode": {
    "name": "ipython",
    "version": 3
   },
   "file_extension": ".py",
   "mimetype": "text/x-python",
   "name": "python",
   "nbconvert_exporter": "python",
   "pygments_lexer": "ipython3",
   "version": "3.10.15"
  }
 },
 "nbformat": 4,
 "nbformat_minor": 5
}
