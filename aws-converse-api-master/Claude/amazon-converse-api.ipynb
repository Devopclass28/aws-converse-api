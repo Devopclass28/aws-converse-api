{
 "cells": [
  {
   "cell_type": "markdown",
   "id": "220970e2",
   "metadata": {},
   "source": [
    "# Getting Started with AWS Converse API\n"
   ]
  },
  {
   "cell_type": "markdown",
   "id": "787aabfb",
   "metadata": {},
   "source": [
    "### Initialize bedrock-runtime"
   ]
  },
  {
   "cell_type": "code",
   "execution_count": 2,
   "id": "09154eb3",
   "metadata": {},
   "outputs": [],
   "source": [
    "import boto3, json\n",
    "\n",
    "session = boto3.Session()\n",
    "bedrock = session.client(service_name='bedrock-runtime')\n",
    "\n",
    "message_list = []"
   ]
  },
  {
   "cell_type": "markdown",
   "id": "13f35b2f",
   "metadata": {},
   "source": [
    "### CODE 1 - A basic call to the Converse API"
   ]
  },
  {
   "cell_type": "code",
   "execution_count": 3,
   "id": "5ac7ece9",
   "metadata": {},
   "outputs": [
    {
     "name": "stdout",
     "output_type": "stream",
     "text": [
      "{\n",
      "    \"role\": \"assistant\",\n",
      "    \"content\": [\n",
      "        {\n",
      "            \"text\": \"I'm doing well, thanks for asking! I'm an AI assistant created by Anthropic to be helpful, harmless, and honest.\"\n",
      "        }\n",
      "    ]\n",
      "}\n"
     ]
    }
   ],
   "source": [
    "initial_message = {\n",
    "    \"role\": \"user\",\n",
    "    \"content\": [\n",
    "        { \"text\": \"How are you today?\" } \n",
    "    ],\n",
    "}\n",
    "\n",
    "message_list.append(initial_message)\n",
    "\n",
    "response = bedrock.converse(\n",
    "    modelId=\"anthropic.claude-3-sonnet-20240229-v1:0\",\n",
    "    messages=message_list,\n",
    "    inferenceConfig={\n",
    "        \"maxTokens\": 2000,\n",
    "        \"temperature\": 0\n",
    "    },\n",
    ")\n",
    "\n",
    "response_message = response['output']['message']\n",
    "print(json.dumps(response_message, indent=4))"
   ]
  },
  {
   "cell_type": "markdown",
   "id": "87d02fa6",
   "metadata": {},
   "source": [
    "###  CODE 2 - Alternating user and assistant messages"
   ]
  },
  {
   "cell_type": "markdown",
   "id": "a2401eb4",
   "metadata": {},
   "source": [
    "####  Alternate between messages from the “user” and “assistant” roles."
   ]
  },
  {
   "cell_type": "code",
   "execution_count": 4,
   "id": "d06c826c",
   "metadata": {},
   "outputs": [
    {
     "name": "stdout",
     "output_type": "stream",
     "text": [
      "[\n",
      "    {\n",
      "        \"role\": \"user\",\n",
      "        \"content\": [\n",
      "            {\n",
      "                \"text\": \"How are you today?\"\n",
      "            }\n",
      "        ]\n",
      "    },\n",
      "    {\n",
      "        \"role\": \"assistant\",\n",
      "        \"content\": [\n",
      "            {\n",
      "                \"text\": \"I'm doing well, thanks for asking! I'm an AI assistant created by Anthropic to be helpful, harmless, and honest.\"\n",
      "            }\n",
      "        ]\n",
      "    }\n",
      "]\n"
     ]
    }
   ],
   "source": [
    "message_list.append(response_message)\n",
    "print(json.dumps(message_list, indent=4))"
   ]
  },
  {
   "cell_type": "markdown",
   "id": "be17c4c7",
   "metadata": {},
   "source": [
    "### CODE 3 - Including an image in a message\n",
    "\n",
    "![Alt Text](image.webp)"
   ]
  },
  {
   "cell_type": "code",
   "execution_count": 13,
   "id": "a5fe760d",
   "metadata": {},
   "outputs": [
    {
     "name": "stdout",
     "output_type": "stream",
     "text": [
      "{\n",
      "    \"role\": \"assistant\",\n",
      "    \"content\": [\n",
      "        {\n",
      "            \"text\": \"The image shows a miniature model of a house, likely a decorative or toy item. The house has a blue exterior with white window frames and a red tiled roof. It appears to be made of a ceramic or porcelain material. The miniature house is placed on a surface with some greenery and yellow flowers surrounding it, creating a whimsical and natural setting. The background is slightly blurred, drawing focus to the intricate details of the small house model.\"\n",
      "        }\n",
      "    ]\n",
      "}\n"
     ]
    }
   ],
   "source": [
    "with open(\"image.webp\", \"rb\") as image_file:\n",
    "    image_bytes = image_file.read()\n",
    "    \n",
    "image_message = {\n",
    "    \"role\": \"user\",\n",
    "    \"content\": [\n",
    "        { \"text\": \"Image 1:\" },\n",
    "        {\n",
    "            \"image\": {\n",
    "                \"format\": \"webp\",\n",
    "                \"source\": {\n",
    "                    \"bytes\": image_bytes #no base64 encoding required!\n",
    "                }\n",
    "            }\n",
    "        },\n",
    "        { \"text\": \"Please describe the image.\" }\n",
    "    ],\n",
    "}\n",
    "\n",
    "message_list.append(image_message)\n",
    "\n",
    "response = bedrock.converse(\n",
    "    modelId=\"anthropic.claude-3-sonnet-20240229-v1:0\",\n",
    "    messages=message_list,\n",
    "    inferenceConfig={\n",
    "        \"maxTokens\": 2000,\n",
    "        \"temperature\": 0\n",
    "    },\n",
    ")\n",
    "\n",
    "\n",
    "response_message = response['output']['message']\n",
    "print(json.dumps(response_message, indent=4))\n",
    "\n",
    "message_list.append(response_message)"
   ]
  },
  {
   "cell_type": "markdown",
   "id": "c670d9b4",
   "metadata": {},
   "source": [
    "### CODE 4 - Setting a system prompt\n"
   ]
  },
  {
   "cell_type": "code",
   "execution_count": 14,
   "id": "7b197f78",
   "metadata": {},
   "outputs": [
    {
     "name": "stdout",
     "output_type": "stream",
     "text": [
      "{\n",
      "    \"role\": \"assistant\",\n",
      "    \"content\": [\n",
      "        {\n",
      "            \"text\": \"Sure, here's a summary of our conversation so far:\\n\\nYou greeted me and asked how I was doing today. I responded that I'm an AI assistant created by Anthropic to be helpful, harmless, and honest.\\n\\nThen you shared an image of a miniature model of a house and asked me to describe it. I provided a detailed description, noting the blue exterior, white window frames, red tiled roof, and that it appears to be made of ceramic or porcelain material. I mentioned it was placed in a natural setting with greenery and yellow flowers surrounding it, creating a whimsical scene. The background was slightly blurred to draw focus to the intricate house model details.\\n\\nAfter describing the image, you asked me to summarize our conversation up to this point, which is what I've done here.\"\n",
      "        }\n",
      "    ]\n",
      "}\n",
      "Stop Reason: end_turn\n",
      "Usage: {\n",
      "    \"inputTokens\": 628,\n",
      "    \"outputTokens\": 177,\n",
      "    \"totalTokens\": 805\n",
      "}\n"
     ]
    }
   ],
   "source": [
    "summary_message = {\n",
    "    \"role\": \"user\",\n",
    "    \"content\": [\n",
    "        { \"text\": \"Can you please summarize our conversation so far?\" } \n",
    "    ],\n",
    "}\n",
    "\n",
    "message_list.append(summary_message)\n",
    "\n",
    "\n",
    "response = bedrock.converse(\n",
    "    modelId=\"anthropic.claude-3-sonnet-20240229-v1:0\",\n",
    "    messages=message_list,\n",
    "    system=[\n",
    "        { \"text\": \"Please respond to all requests in the style of a doctor.\" }\n",
    "    ],\n",
    "    inferenceConfig={\n",
    "        \"maxTokens\": 2000,\n",
    "        \"temperature\": 0\n",
    "    },\n",
    ")\n",
    "\n",
    "response_message = response['output']['message']\n",
    "print(json.dumps(response_message, indent=4))\n",
    "\n",
    "message_list.append(response_message)\n",
    "\n",
    "print(\"Stop Reason:\", response['stopReason'])\n",
    "print(\"Usage:\", json.dumps(response['usage'], indent=4))"
   ]
  },
  {
   "cell_type": "code",
   "execution_count": null,
   "id": "f001e7fe",
   "metadata": {},
   "outputs": [],
   "source": []
  }
 ],
 "metadata": {
  "kernelspec": {
   "display_name": "conda_python3",
   "language": "python",
   "name": "conda_python3"
  },
  "language_info": {
   "codemirror_mode": {
    "name": "ipython",
    "version": 3
   },
   "file_extension": ".py",
   "mimetype": "text/x-python",
   "name": "python",
   "nbconvert_exporter": "python",
   "pygments_lexer": "ipython3",
   "version": "3.10.15"
  }
 },
 "nbformat": 4,
 "nbformat_minor": 5
}
