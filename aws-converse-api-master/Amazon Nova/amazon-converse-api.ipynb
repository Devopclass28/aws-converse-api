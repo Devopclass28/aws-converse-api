{
 "cells": [
  {
   "cell_type": "markdown",
   "id": "220970e2",
   "metadata": {},
   "source": [
    "# Getting Started with AWS Converse API\n"
   ]
  },
  {
   "cell_type": "code",
   "execution_count": 1,
   "id": "e4570d7b-0c74-427a-8817-026ea847a56a",
   "metadata": {
    "tags": []
   },
   "outputs": [],
   "source": [
    "import boto3\n",
    "import json\n",
    "from botocore.exceptions import ClientError\n",
    "from botocore.config import Config\n",
    "\n",
    "# Optional: extend timeout for image processing (recommended for Nova)\n",
    "config = Config(connect_timeout=60, read_timeout=3600)\n",
    "\n",
    "session = boto3.Session()\n",
    "bedrock = session.client(\n",
    "    service_name=\"bedrock-runtime\",\n",
    "    region_name=\"us-east-1\",\n",
    "    config=config\n",
    ")"
   ]
  },
  {
   "cell_type": "markdown",
   "id": "13f35b2f",
   "metadata": {},
   "source": [
    "### CODE 1 - A basic call to the Converse API"
   ]
  },
  {
   "cell_type": "code",
   "execution_count": 2,
   "id": "5ac7ece9",
   "metadata": {
    "tags": []
   },
   "outputs": [
    {
     "name": "stdout",
     "output_type": "stream",
     "text": [
      "{\n",
      "    \"role\": \"assistant\",\n",
      "    \"content\": [\n",
      "        {\n",
      "            \"text\": \"I'm doing well, thank you for asking! As an AI, I don't have feelings, but I'm here and ready to help you with any questions or tasks you have. How can I assist you today?\"\n",
      "        }\n",
      "    ]\n",
      "}\n"
     ]
    }
   ],
   "source": [
    "message_list = []\n",
    "\n",
    "# Your initial user message\n",
    "initial_message = {\n",
    "    \"role\": \"user\",\n",
    "    \"content\": [\n",
    "        { \"text\": \"How are you today?\" }\n",
    "    ],\n",
    "}\n",
    "\n",
    "message_list.append(initial_message)\n",
    "\n",
    "try:\n",
    "    response = bedrock.converse(\n",
    "        modelId=\"amazon.nova-lite-v1:0\",\n",
    "        messages=message_list,\n",
    "        inferenceConfig={\n",
    "            \"maxTokens\": 2000,\n",
    "            \"temperature\": 0.0,\n",
    "            \"topP\": 0.9\n",
    "        }\n",
    "    )\n",
    "    response_message = response[\"output\"][\"message\"]\n",
    "    print(json.dumps(response_message, indent=4))\n",
    "\n",
    "except (ClientError, Exception) as e:\n",
    "    print(f\"ERROR: Can't invoke model. Reason: {e}\")\n",
    "    exit(1)\n"
   ]
  },
  {
   "cell_type": "markdown",
   "id": "87d02fa6",
   "metadata": {},
   "source": [
    "###  CODE 2 - Alternating user and assistant messages"
   ]
  },
  {
   "cell_type": "markdown",
   "id": "a2401eb4",
   "metadata": {},
   "source": [
    "####  Alternate between messages from the “user” and “assistant” roles."
   ]
  },
  {
   "cell_type": "code",
   "execution_count": 3,
   "id": "d06c826c",
   "metadata": {
    "tags": []
   },
   "outputs": [
    {
     "name": "stdout",
     "output_type": "stream",
     "text": [
      "[\n",
      "    {\n",
      "        \"role\": \"user\",\n",
      "        \"content\": [\n",
      "            {\n",
      "                \"text\": \"How are you today?\"\n",
      "            }\n",
      "        ]\n",
      "    },\n",
      "    {\n",
      "        \"role\": \"assistant\",\n",
      "        \"content\": [\n",
      "            {\n",
      "                \"text\": \"I'm doing well, thank you for asking! As an AI, I don't have feelings, but I'm here and ready to help you with any questions or tasks you have. How can I assist you today?\"\n",
      "            }\n",
      "        ]\n",
      "    }\n",
      "]\n"
     ]
    }
   ],
   "source": [
    "message_list.append(response_message)\n",
    "print(json.dumps(message_list, indent=4))"
   ]
  },
  {
   "cell_type": "markdown",
   "id": "be17c4c7",
   "metadata": {},
   "source": [
    "### CODE 3 - Including an image in a message\n",
    "\n",
    "![Alt Text](image.webp)"
   ]
  },
  {
   "cell_type": "code",
   "execution_count": 4,
   "id": "a5fe760d",
   "metadata": {
    "tags": []
   },
   "outputs": [
    {
     "name": "stdout",
     "output_type": "stream",
     "text": [
      "{\n",
      "    \"role\": \"assistant\",\n",
      "    \"content\": [\n",
      "        {\n",
      "            \"text\": \"The image features a miniature house on a grassy field, surrounded by rocks. The house has a charming design with a red roof and white walls. There are three windows in the front of the house, which is adorned with a red-painted wall, adding a touch of charm and detail. The grass in the area is lush and green, suggesting a healthy and vibrant environment. In the distance, there are some trees that are blurred, indicating a somewhat blurry background that provides depth to the image.\"\n",
      "        }\n",
      "    ]\n",
      "}\n"
     ]
    }
   ],
   "source": [
    "# 1️⃣ Initial user text message\n",
    "message_list.append({\n",
    "    \"role\": \"user\",\n",
    "    \"content\": [{\"text\": \"How are you today?\"}]\n",
    "})\n",
    "\n",
    "# 2️⃣ Image input followed by a prompt\n",
    "with open(\"image.webp\", \"rb\") as image_file:\n",
    "    image_bytes = image_file.read()\n",
    "\n",
    "image_message = {\n",
    "    \"role\": \"user\",\n",
    "    \"content\": [\n",
    "        {\"text\": \"Image 1:\"},\n",
    "        {\n",
    "            \"image\": {\n",
    "                \"format\": \"webp\",\n",
    "                \"source\": {\"bytes\": image_bytes}\n",
    "            }\n",
    "        },\n",
    "        {\"text\": \"Please describe the image.\"}\n",
    "    ]\n",
    "}\n",
    "\n",
    "message_list.append(image_message)\n",
    "\n",
    "model_id = \"amazon.nova-lite-v1:0\"  # or nova‑pro for higher capability\n",
    "\n",
    "try:\n",
    "    response = bedrock.converse(\n",
    "        modelId=model_id,\n",
    "        messages=message_list,\n",
    "        inferenceConfig={\n",
    "            \"maxTokens\": 2000,\n",
    "            \"temperature\": 0.0,\n",
    "            \"topP\": 0.9\n",
    "        }\n",
    "    )\n",
    "    response_message = response[\"output\"][\"message\"]\n",
    "    print(json.dumps(response_message, indent=4))\n",
    "\n",
    "    # Continue the conversation\n",
    "    message_list.append(response_message)\n",
    "\n",
    "except ClientError as e:\n",
    "    print(\"AWS API error:\", e.response.get(\"Error\", {}).get(\"Message\"))\n",
    "except Exception as e:\n",
    "    print(\"Unexpected error:\", e)\n"
   ]
  },
  {
   "cell_type": "markdown",
   "id": "c670d9b4",
   "metadata": {},
   "source": [
    "### CODE 4 - Setting a system prompt\n"
   ]
  },
  {
   "cell_type": "code",
   "execution_count": 5,
   "id": "7b197f78",
   "metadata": {
    "tags": []
   },
   "outputs": [
    {
     "name": "stdout",
     "output_type": "stream",
     "text": [
      "{\n",
      "    \"role\": \"assistant\",\n",
      "    \"content\": [\n",
      "        {\n",
      "            \"text\": \"Certainly! Here's a summary of our conversation so far:\\n\\n1. You asked how I was doing, and I explained that, as an AI, I don't have feelings, but I'm here to help you with any questions or tasks you have.\\n2. You shared an image of a miniature house on a grassy field, and I provided a description of the image, mentioning the charming design, red roof, white walls, and lush green grass. I also noted the blurred trees in the distance.\\n\\nIf you have any more questions or need further assistance, feel free to let me know!\"\n",
      "        }\n",
      "    ]\n",
      "}\n",
      "Stop Reason: end_turn\n",
      "Usage: {\n",
      "    \"inputTokens\": 1509,\n",
      "    \"outputTokens\": 122,\n",
      "    \"totalTokens\": 1631\n",
      "}\n"
     ]
    }
   ],
   "source": [
    "# (Assuming you already have previous messages appended here)\n",
    "\n",
    "# Add the summary request message\n",
    "summary_message = {\n",
    "    \"role\": \"user\",\n",
    "    \"content\": [\n",
    "        {\"text\": \"Can you please summarize our conversation so far?\"}\n",
    "    ],\n",
    "}\n",
    "message_list.append(summary_message)\n",
    "\n",
    "system_prompts = [\n",
    "    {\"text\": \"You must respond to all requests in poaragraph.\"}\n",
    "]\n",
    "\n",
    "inference_config = {\n",
    "    \"maxTokens\": 2000,\n",
    "    \"temperature\": 0.0,\n",
    "    \"topP\": 0.9\n",
    "}\n",
    "\n",
    "try:\n",
    "    response = bedrock.converse(\n",
    "        modelId=\"amazon.nova-lite-v1:0\",  # or nova‑pro, nova‑premier as needed\n",
    "        messages=message_list,\n",
    "        system=system_prompts,\n",
    "        inferenceConfig=inference_config\n",
    "        # no additionalModelRequestFields unless you need model-specific params like topK\n",
    "    )\n",
    "    response_message = response[\"output\"][\"message\"]\n",
    "    print(json.dumps(response_message, indent=4))\n",
    "\n",
    "    # Save assistant response into conversation history\n",
    "    message_list.append(response_message)\n",
    "    #print(message_list)\n",
    "\n",
    "    print(\"Stop Reason:\", response.get(\"stopReason\"))\n",
    "    print(\"Usage:\", json.dumps(response.get(\"usage\", {}), indent=4))\n",
    "\n",
    "except ClientError as e:\n",
    "    print(\"AWS API error:\", e.response.get(\"Error\", {}).get(\"Message\"))\n",
    "except Exception as e:\n",
    "    print(\"Unexpected error:\", e)\n"
   ]
  },
  {
   "cell_type": "code",
   "execution_count": null,
   "id": "f001e7fe",
   "metadata": {},
   "outputs": [],
   "source": []
  }
 ],
 "metadata": {
  "kernelspec": {
   "display_name": "conda_python3",
   "language": "python",
   "name": "conda_python3"
  },
  "language_info": {
   "codemirror_mode": {
    "name": "ipython",
    "version": 3
   },
   "file_extension": ".py",
   "mimetype": "text/x-python",
   "name": "python",
   "nbconvert_exporter": "python",
   "pygments_lexer": "ipython3",
   "version": "3.10.18"
  }
 },
 "nbformat": 4,
 "nbformat_minor": 5
}
